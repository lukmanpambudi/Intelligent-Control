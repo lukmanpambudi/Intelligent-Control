{
  "nbformat": 4,
  "nbformat_minor": 0,
  "metadata": {
    "colab": {
      "name": "control.ipynb",
      "provenance": [],
      "collapsed_sections": []
    },
    "kernelspec": {
      "name": "python3",
      "display_name": "Python 3"
    },
    "language_info": {
      "name": "python"
    }
  },
  "cells": [
    {
      "cell_type": "markdown",
      "source": [
        "*   Name: Lukman Pambudi\n",
        "*   Student ID: 20507334062\n",
        "*   Class: GK2\n",
        "*   Deadline: February 13, 2022"
      ],
      "metadata": {
        "id": "iB69LNMIKsuR"
      }
    },
    {
      "cell_type": "markdown",
      "source": [
        "First, let us install the dependency. We need the control package, just run this command."
      ],
      "metadata": {
        "id": "mufCRfv2xpbG"
      }
    },
    {
      "cell_type": "code",
      "execution_count": 1,
      "metadata": {
        "id": "UoAZAZLZxmiw",
        "colab": {
          "base_uri": "https://localhost:8080/"
        },
        "outputId": "895bef92-9435-4256-914b-4039a34748b9"
      },
      "outputs": [
        {
          "output_type": "stream",
          "name": "stdout",
          "text": [
            "Collecting control\n",
            "  Downloading control-0.9.1.tar.gz (357 kB)\n",
            "\u001b[?25l\r\u001b[K     |█                               | 10 kB 17.9 MB/s eta 0:00:01\r\u001b[K     |█▉                              | 20 kB 9.5 MB/s eta 0:00:01\r\u001b[K     |██▊                             | 30 kB 7.8 MB/s eta 0:00:01\r\u001b[K     |███▋                            | 40 kB 7.3 MB/s eta 0:00:01\r\u001b[K     |████▋                           | 51 kB 5.5 MB/s eta 0:00:01\r\u001b[K     |█████▌                          | 61 kB 5.6 MB/s eta 0:00:01\r\u001b[K     |██████▍                         | 71 kB 5.4 MB/s eta 0:00:01\r\u001b[K     |███████▎                        | 81 kB 6.0 MB/s eta 0:00:01\r\u001b[K     |████████▎                       | 92 kB 5.9 MB/s eta 0:00:01\r\u001b[K     |█████████▏                      | 102 kB 5.4 MB/s eta 0:00:01\r\u001b[K     |██████████                      | 112 kB 5.4 MB/s eta 0:00:01\r\u001b[K     |███████████                     | 122 kB 5.4 MB/s eta 0:00:01\r\u001b[K     |████████████                    | 133 kB 5.4 MB/s eta 0:00:01\r\u001b[K     |████████████▉                   | 143 kB 5.4 MB/s eta 0:00:01\r\u001b[K     |█████████████▊                  | 153 kB 5.4 MB/s eta 0:00:01\r\u001b[K     |██████████████▋                 | 163 kB 5.4 MB/s eta 0:00:01\r\u001b[K     |███████████████▋                | 174 kB 5.4 MB/s eta 0:00:01\r\u001b[K     |████████████████▌               | 184 kB 5.4 MB/s eta 0:00:01\r\u001b[K     |█████████████████▍              | 194 kB 5.4 MB/s eta 0:00:01\r\u001b[K     |██████████████████▎             | 204 kB 5.4 MB/s eta 0:00:01\r\u001b[K     |███████████████████▎            | 215 kB 5.4 MB/s eta 0:00:01\r\u001b[K     |████████████████████▏           | 225 kB 5.4 MB/s eta 0:00:01\r\u001b[K     |█████████████████████           | 235 kB 5.4 MB/s eta 0:00:01\r\u001b[K     |██████████████████████          | 245 kB 5.4 MB/s eta 0:00:01\r\u001b[K     |███████████████████████         | 256 kB 5.4 MB/s eta 0:00:01\r\u001b[K     |███████████████████████▉        | 266 kB 5.4 MB/s eta 0:00:01\r\u001b[K     |████████████████████████▊       | 276 kB 5.4 MB/s eta 0:00:01\r\u001b[K     |█████████████████████████▋      | 286 kB 5.4 MB/s eta 0:00:01\r\u001b[K     |██████████████████████████▌     | 296 kB 5.4 MB/s eta 0:00:01\r\u001b[K     |███████████████████████████▌    | 307 kB 5.4 MB/s eta 0:00:01\r\u001b[K     |████████████████████████████▍   | 317 kB 5.4 MB/s eta 0:00:01\r\u001b[K     |█████████████████████████████▎  | 327 kB 5.4 MB/s eta 0:00:01\r\u001b[K     |██████████████████████████████▏ | 337 kB 5.4 MB/s eta 0:00:01\r\u001b[K     |███████████████████████████████▏| 348 kB 5.4 MB/s eta 0:00:01\r\u001b[K     |████████████████████████████████| 357 kB 5.4 MB/s \n",
            "\u001b[?25hRequirement already satisfied: numpy in /usr/local/lib/python3.7/dist-packages (from control) (1.19.5)\n",
            "Requirement already satisfied: scipy in /usr/local/lib/python3.7/dist-packages (from control) (1.4.1)\n",
            "Requirement already satisfied: matplotlib in /usr/local/lib/python3.7/dist-packages (from control) (3.2.2)\n",
            "Requirement already satisfied: python-dateutil>=2.1 in /usr/local/lib/python3.7/dist-packages (from matplotlib->control) (2.8.2)\n",
            "Requirement already satisfied: kiwisolver>=1.0.1 in /usr/local/lib/python3.7/dist-packages (from matplotlib->control) (1.3.2)\n",
            "Requirement already satisfied: pyparsing!=2.0.4,!=2.1.2,!=2.1.6,>=2.0.1 in /usr/local/lib/python3.7/dist-packages (from matplotlib->control) (3.0.7)\n",
            "Requirement already satisfied: cycler>=0.10 in /usr/local/lib/python3.7/dist-packages (from matplotlib->control) (0.11.0)\n",
            "Requirement already satisfied: six>=1.5 in /usr/local/lib/python3.7/dist-packages (from python-dateutil>=2.1->matplotlib->control) (1.15.0)\n",
            "Building wheels for collected packages: control\n",
            "  Building wheel for control (setup.py) ... \u001b[?25l\u001b[?25hdone\n",
            "  Created wheel for control: filename=control-0.9.1-py2.py3-none-any.whl size=364703 sha256=b9473209ac285923722f1f2340f8783cd4707aab1c005fda6487df512aac9eaf\n",
            "  Stored in directory: /root/.cache/pip/wheels/b1/50/22/8005107713828997d1af664fbd629c7f935a1b87fc2f4ba6c1\n",
            "Successfully built control\n",
            "Installing collected packages: control\n",
            "Successfully installed control-0.9.1\n"
          ]
        }
      ],
      "source": [
        "!pip install control"
      ]
    },
    {
      "cell_type": "markdown",
      "source": [
        "After installing the control package, we can start designing our plant and controller. Here exists a plant with a transfer function such as\n",
        "\n",
        "$$H_1(s) = \\frac{1}{6s - 2},$$\n",
        "\n",
        "which we need to define in Python. It can be done by running these lines of code."
      ],
      "metadata": {
        "id": "JdD99Xkpx9fz"
      }
    },
    {
      "cell_type": "code",
      "source": [
        "import numpy as np\n",
        "import matplotlib.pyplot as plt\n",
        "import control as co\n",
        "\n",
        "num = 1\n",
        "den = [0, 6, -2]\n",
        "H1 = co.tf(num, den)\n",
        "print(H1)"
      ],
      "metadata": {
        "id": "Jai5c7LiyxTv",
        "colab": {
          "base_uri": "https://localhost:8080/"
        },
        "outputId": "0b5a3c5a-ab54-43a8-e66d-098b4d31c34c"
      },
      "execution_count": 2,
      "outputs": [
        {
          "output_type": "stream",
          "name": "stdout",
          "text": [
            "\n",
            "   1\n",
            "-------\n",
            "6 s - 2\n",
            "\n"
          ]
        }
      ]
    },
    {
      "cell_type": "markdown",
      "source": [
        "Next, we can analyze whether the system is stable or not by running the following code."
      ],
      "metadata": {
        "id": "duYcgVzz1wyF"
      }
    },
    {
      "cell_type": "code",
      "source": [
        "poles = co.pole(H1)\n",
        "print(poles)\n",
        "co.pzmap(H1)"
      ],
      "metadata": {
        "id": "nGKsjxWE153K",
        "colab": {
          "base_uri": "https://localhost:8080/",
          "height": 330
        },
        "outputId": "92423fa9-a272-4864-e819-97326f87063b"
      },
      "execution_count": 3,
      "outputs": [
        {
          "output_type": "stream",
          "name": "stdout",
          "text": [
            "[0.33333333]\n"
          ]
        },
        {
          "output_type": "execute_result",
          "data": {
            "text/plain": [
              "(array([0.33333333]), array([], dtype=float64))"
            ]
          },
          "metadata": {},
          "execution_count": 3
        },
        {
          "output_type": "display_data",
          "data": {
            "image/png": "[encoded data removed]",
            "text/plain": [
              "<Figure size 432x288 with 1 Axes>"
            ]
          },
          "metadata": {
            "needs_background": "light"
          }
        }
      ]
    },
    {
      "cell_type": "markdown",
      "source": [
        "It appears that there is a pole which lies in the Right-Half Hemisphere. It indicates that the system is not stable. Let exponential function such as\n",
        "\n",
        "$$f(t) = e^{at},$$\n",
        "where $a$ is the pole.\n",
        "\n",
        "\n",
        "1.   It is stable if $f(t) = 0$ for time $t = ∞$;\n",
        "2.   It is unstable if $f(t) = ∞$ for time $t = ∞$;\n",
        "\n",
        "Now, let see the poles.\n",
        "\n"
      ],
      "metadata": {
        "id": "izpw2log2Utv"
      }
    },
    {
      "cell_type": "code",
      "source": [
        "t = np.linspace(0, 10, 1000)\n",
        "f1 = np.exp(poles[0]*t)\n",
        "plt.plot(t, f1)"
      ],
      "metadata": {
        "id": "dBAxY7B76HMW",
        "colab": {
          "base_uri": "https://localhost:8080/",
          "height": 282
        },
        "outputId": "c0b482ae-f03a-43a9-a590-06360869ec6f"
      },
      "execution_count": 4,
      "outputs": [
        {
          "output_type": "execute_result",
          "data": {
            "text/plain": [
              "[<matplotlib.lines.Line2D at 0x7f93a548c190>]"
            ]
          },
          "metadata": {},
          "execution_count": 4
        },
        {
          "output_type": "display_data",
          "data": {
            "image/png": "[encoded data removed]",
            "text/plain": [
              "<Figure size 432x288 with 1 Axes>"
            ]
          },
          "metadata": {
            "needs_background": "light"
          }
        }
      ]
    },
    {
      "cell_type": "code",
      "source": [
        "f2 = np.exp(poles[1]*t)\n",
        "plt.plot(t, f2)"
      ],
      "metadata": {
        "id": "5T93wAvXcxGr",
        "colab": {
          "base_uri": "https://localhost:8080/",
          "height": 183
        },
        "outputId": "e2d7478f-32dd-4079-b406-462535d9fc1c"
      },
      "execution_count": 5,
      "outputs": [
        {
          "output_type": "error",
          "ename": "IndexError",
          "evalue": "ignored",
          "traceback": [
            "\u001b[0;31m---------------------------------------------------------------------------\u001b[0m",
            "\u001b[0;31mIndexError\u001b[0m                                Traceback (most recent call last)",
            "\u001b[0;32m<ipython-input-5-67e7a1555fd8>\u001b[0m in \u001b[0;36m<module>\u001b[0;34m()\u001b[0m\n\u001b[0;32m----> 1\u001b[0;31m \u001b[0mf2\u001b[0m \u001b[0;34m=\u001b[0m \u001b[0mnp\u001b[0m\u001b[0;34m.\u001b[0m\u001b[0mexp\u001b[0m\u001b[0;34m(\u001b[0m\u001b[0mpoles\u001b[0m\u001b[0;34m[\u001b[0m\u001b[0;36m1\u001b[0m\u001b[0;34m]\u001b[0m\u001b[0;34m*\u001b[0m\u001b[0mt\u001b[0m\u001b[0;34m)\u001b[0m\u001b[0;34m\u001b[0m\u001b[0;34m\u001b[0m\u001b[0m\n\u001b[0m\u001b[1;32m      2\u001b[0m \u001b[0mplt\u001b[0m\u001b[0;34m.\u001b[0m\u001b[0mplot\u001b[0m\u001b[0;34m(\u001b[0m\u001b[0mt\u001b[0m\u001b[0;34m,\u001b[0m \u001b[0mf2\u001b[0m\u001b[0;34m)\u001b[0m\u001b[0;34m\u001b[0m\u001b[0;34m\u001b[0m\u001b[0m\n",
            "\u001b[0;31mIndexError\u001b[0m: index 1 is out of bounds for axis 0 with size 1"
          ]
        }
      ]
    },
    {
      "cell_type": "markdown",
      "source": [
        "It is apparent that the system is unstable, **please elaborate** \n",
        "the system is unstable because, in the graph above it only has 1 pole. The pole has a value of 0.33333333. it can be seen in the graph that the pole is to the right of 0, or the pole point is in the Right-Half Hemisphere. then if the plotted value is 0.33333333. does not approach the value 0, then the transfer function above is not stable"
      ],
      "metadata": {
        "id": "p8EfTUE1KhKy"
      }
    },
    {
      "cell_type": "markdown",
      "source": [
        "Let us plot the step response of the system."
      ],
      "metadata": {
        "id": "HpHX3f_RMg9-"
      }
    },
    {
      "cell_type": "code",
      "source": [
        "t1, y1 = co.step_response(H1, t)\n",
        "\n",
        "plt.plot(t1, y1)\n",
        "plt.xlabel(\"Time (seconds)\")\n",
        "plt.ylabel(\"Amplitude\")\n",
        "plt.grid()"
      ],
      "metadata": {
        "id": "Khm07S9ULTwx",
        "colab": {
          "base_uri": "https://localhost:8080/",
          "height": 281
        },
        "outputId": "71dc2086-a3b4-43f0-8dcc-03e4dbe7f214"
      },
      "execution_count": 6,
      "outputs": [
        {
          "output_type": "display_data",
          "data": {
            "image/png": "[encoded data removed]",
            "text/plain": [
              "<Figure size 432x288 with 1 Axes>"
            ]
          },
          "metadata": {
            "needs_background": "light"
          }
        }
      ]
    },
    {
      "cell_type": "markdown",
      "source": [
        "In order to make a better response, the controller is necessary.\n",
        "Here we use PID controller which can be denoted in Laplace form as\n",
        "\n",
        "$$H_2(s) = K_p + \\frac{K_i}{s} + K_ds.$$\n",
        "\n"
      ],
      "metadata": {
        "id": "5WzgoOtsNGAd"
      }
    },
    {
      "cell_type": "code",
      "source": [
        "Kp = 90\n",
        "Ki = 60\n",
        "Kd = 30\n",
        "\n",
        "H2 = co.tf([Kd, Kp, Ki], [1, 0])\n",
        "print(H2)"
      ],
      "metadata": {
        "id": "HWe2qfvJQsKY",
        "colab": {
          "base_uri": "https://localhost:8080/"
        },
        "outputId": "37a20000-f9b6-4d96-aae5-f5130f9abbb7"
      },
      "execution_count": 7,
      "outputs": [
        {
          "output_type": "stream",
          "name": "stdout",
          "text": [
            "\n",
            "30 s^2 + 90 s + 60\n",
            "------------------\n",
            "        s\n",
            "\n"
          ]
        }
      ]
    },
    {
      "cell_type": "markdown",
      "source": [
        "The parameters of controller have been defined, where we have\n",
        "\n",
        "$$H_2(s) = \\frac{30s^2 + 90s + 60}{s}.$$\n",
        "\n",
        "Let see for series, parallel, and feedback combination of those two."
      ],
      "metadata": {
        "id": "JzxrAXwbT_nH"
      }
    },
    {
      "cell_type": "code",
      "source": [
        "OL = co.series(H1, H2)\n",
        "print(OL)\n",
        "print(co.pole(OL))\n",
        "co.pzmap(OL)"
      ],
      "metadata": {
        "id": "-YvqjTbCU6b1",
        "colab": {
          "base_uri": "https://localhost:8080/",
          "height": 417
        },
        "outputId": "88b2c119-1c15-493c-8390-686b368a5372"
      },
      "execution_count": 8,
      "outputs": [
        {
          "output_type": "stream",
          "name": "stdout",
          "text": [
            "\n",
            "30 s^2 + 90 s + 60\n",
            "------------------\n",
            "   6 s^2 - 2 s\n",
            "\n",
            "[0.33333333 0.        ]\n"
          ]
        },
        {
          "output_type": "execute_result",
          "data": {
            "text/plain": [
              "(array([0.33333333, 0.        ]), array([-2., -1.]))"
            ]
          },
          "metadata": {},
          "execution_count": 8
        },
        {
          "output_type": "display_data",
          "data": {
            "image/png": "[encoded data removed]",
            "text/plain": [
              "<Figure size 432x288 with 1 Axes>"
            ]
          },
          "metadata": {
            "needs_background": "light"
          }
        }
      ]
    },
    {
      "cell_type": "markdown",
      "source": [
        "The series combination can be seen as open-loop system where\n",
        "$$O_L(s) = H_1(s)H_2(s).$$\n",
        "\n",
        "![Screenshot from 2022-02-07 05-15-06.png](data:image/png;base64,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)"
      ],
      "metadata": {
        "id": "GuvJJRHJIHVp"
      }
    },
    {
      "cell_type": "code",
      "source": [
        "PL = co.parallel(H1, H2)\n",
        "print(PL)\n",
        "print(co.pole(PL))\n",
        "co.pzmap(PL)"
      ],
      "metadata": {
        "id": "eiAIATscRMPJ",
        "colab": {
          "base_uri": "https://localhost:8080/",
          "height": 434
        },
        "outputId": "1711a850-9f4b-489a-bfbb-c94a4558ccd0"
      },
      "execution_count": 9,
      "outputs": [
        {
          "output_type": "stream",
          "name": "stdout",
          "text": [
            "\n",
            "180 s^3 + 480 s^2 + 181 s - 120\n",
            "-------------------------------\n",
            "          6 s^2 - 2 s\n",
            "\n",
            "[0.33333333 0.        ]\n"
          ]
        },
        {
          "output_type": "execute_result",
          "data": {
            "text/plain": [
              "(array([0.33333333, 0.        ]),\n",
              " array([-1.99521685, -1.00418856,  0.33273874]))"
            ]
          },
          "metadata": {},
          "execution_count": 9
        },
        {
          "output_type": "display_data",
          "data": {
            "image/png": "[encoded data removed]",
            "text/plain": [
              "<Figure size 432x288 with 1 Axes>"
            ]
          },
          "metadata": {
            "needs_background": "light"
          }
        }
      ]
    },
    {
      "cell_type": "markdown",
      "source": [
        "Parallel combination, we add both $H_1$ and $H_2$ such as\n",
        "$$P_L(s) = H_1(s)+H_2(s).$$\n",
        "\n",
        "![Screenshot from 2022-02-07 05-15-50.png](data:image/png;base64,iVBORw0KGgoAAAANSUhEUgAAAYIAAADaCAYAAACrUEWnAAAABHNCSVQICAgIfAhkiAAAABl0RVh0U29mdHdhcmUAZ25vbWUtc2NyZWVuc2hvdO8Dvz4AABnhSURBVHic7d17UFTn/QbwZ4GF5a7cRFFUqEKkTlRiq2KmykW0ISDKWgcN3pqQtGm8TNKo1YrFmmobkxB7m7EaVKwGlEylNt5QEwUarzONIlLRxJiIiCiCuCCc/uFv9wdyW2B3zzm8z2cmoznn5bzfFeY8nO+5aSRJkkBERMKyk7sAIiKSF4OAiEhwDAIiIsExCIiIBMcgICISHIOAiEhwDAIiIsExCIiIBMcgICISHIOAiEhwDAIiIsExCIiIBMcgICISHIOAiEhwDAIiIsExCIiIBMcgICISnIPcBZC8vvjiC2zatAlNTU1yl0Ld1LdvX3zwwQfQ6XRyl0IqxSAQ3P79+5GdnY3Ro0fLXQp1Q1VVFcrKyrBkyRI888wzcpdDKsUgIDg6OuLMmTNyl0HdsHfvXiQlJcldBqkczxEQEQmOQUBEJDgGARGR4BgERESCYxAQEQmOQUBEJDgGARGR4BgERESCYxAQEQmOQUBEJDgGARGR4BgERESCYxAQEQmOQUBEJDgGARGR4BgERESCYxAQEQmOQUBEJDgGARGR4BgERESCYxAQEQmOQUBEJDgGARGR4BgERESCYxAQEQmOQUBEJDgGARGR4BgERESCYxAQAWhqapK7BCLZOMhdAJG5Dh8+jKysLJSXl5uWOTg4ICwsDOnp6dBqtQCA9PR0nD17FgaDwTSub9++mD59OmbNmtVim01NTcjOzkZaWhqOHz+Ofv362ebDECkIg4BUIyYmBpGRkYiPj8eBAwcAAKdOncKECRNajFu9ejXKysoQGhqKhoYGjBo1Crm5udDpdKYxkiRh3759WLduHS5cuGDTz0GkNGwNqVBhYSHCwsKQlpaG0tJSucuxKXt7e0RERJj+Pn78+DbHBQUFYeDAgQCAsWPHtggBALhx4wbCw8Nx8OBBaDQa6xZNpHAMAhXSaDS4dOkS1q5di+HDh5tCoaSkRO7SbMLJyQkAoNVqO9yJG8cZ/2wuMDAQQ4YMgZ+fHzw8PKxTKJFKMAhUyM6u5bfNGAqhoaGmULh06ZJM1akPjwhIdAwCFepox2UMhbCwMISFhWH58uU4efKkDasjIrVhEKjQ00cE7bl06RI2bNiA559/HkFBQVi8eDFOnjwJSZKsXCERqQmvGjLD7du3TZcmGj18+LDF5YmdqampQUNDg9njq6ur0djY2Oa67pwgvnbtGjIyMpCRkYHBgwcjISEBer2+y9tRkoaGBqxYsaLd9bdv37ZhNfIw/kx9/PHH6N+/v8zVWF5TUxOuXLmC9evXtzrhT5bDIOjExIkTcerUKbnLsKivvvoKGRkZyMrKwsiRI+Uup0ccHNr/ERah93/16lUAQFpamryFWNno0aPx0ksvyV1Gr8Ug6MSAAQPg4+OD3/72t+2OcXJygouLi9nbdHZ27tJvN66urnB0dDT9/5UrV5CcnGz21zfXp08fvPjii9Dr9YiNjUV6ejqKioq6tS25abVapKent7s+JycHlZWVNqzI9kJDQwEARUVFGD58uMzVWN4XX3yBqVOnIiAgQO5SejUGQSfc3d3h4eGBV155Re5STJqHgjlcXFwQGRmJlJQUJCQkdPnrSfk8PDzQt29fucuwOHd3d7lLEAKDQIXMaXk4OzsjKioKer0eM2fOhKurqw0qIyI1YhCoUHtXDel0OkRHR0Ov12PGjBlwc3OzcWVEpEYMAhVqHgROTk6IiYmBXq9HYmKiEIfS9fX1ANDuVVVdHcfLaUl0DAIV0mq1eOGFFzBr1iwkJCTA09NT7pJsqqysDMCTSydv3rzZ5onEuro601NKjePbcv/+fdy/fx/Ak0uCiUTEG8pUKDg4GHl5eUhJSREqBI4cOYL58+cjMzPTtCwqKgorV65scY/G+vXrMXnyZNTW1gIADh06hMTERGRnZ5vGVFZWYt26dZg2bZpp2fz587Fu3TrTJZlEouARAalGdHQ0oqOj8dFHH3U4buXKlVi5cmWHY7y9vbFq1SqsWrXKghUSqROPCIiIBMcgICISHIOAiEhwDAIiIsExCIiIBMcgICISHIOAiEhwDAIiIsExCIiIBMcgICISHIOAiEhwfNYQESnC7Nmz8d///rfFspqaGgDAa6+91uoR64GBgdi3b5/N6uvNGAREpAhBQUHYs2dPm+uuXLnSatmkSZOsXJE42BoiIkXQ6/VWHU/tYxAQkSKMHj0aw4YNM2vsoEGD8IMf/KDDMffu3Wv1HgpqG4OAiBQjKSnJrHGzZs2CRqPpcIzBYMAnn3zSZluJWmIQEJFimNvuYVvIshgERKQY5rSHzGkLUdcwCIhIUTprD5nTFqKu4eWjRKQoer0e77zzTofrn/bo0SMkJia2WGYwGAAAmZmZOHnyZIt1qampmD59ugWqBfLy8vDRRx+hsbERADBmzBi8+uqr8PX1BQD8+c9/xqFDh+Du7o5169YhMDDQIvNaEoOAiBRl9OjRCAkJQUlJSat17bWFmpqacP369RbLHj9+DACoqqpqta66utpi9cbFxaG0tBTLli1Dnz59kJub22L9a6+9ho0bN+KPf/yjIkMAYGuIiBRo5syZbS5vry3k4uKC4uLiFv8ZjwKWLFnSal1KSopF6/3Zz34Gf39/3Lt3D6dPn26x7uLFi3B0dMSPf/xji85pSbIGQVZWFpKSkpCYmIjf/e53puWbN2+GXq9HYmIiFixYIGOFRCSH9q4KUurVQk5OTli2bBkA4N13322xbteuXYrfj8naGpozZw6uXr2KNWvWtFj++uuvIzw8HBMmTIC/v79M1RGRXEaNGtWqPaT0q4VeffVVrF+/Hjk5Obh27RqGDh0KANizZw9OnDghc3Udk701NHLkyDaXG/8RiUhMT7eHlH61kLu7O15//XU0NjbivffeAwAUFBRg2LBhCAgIkLm6jskeBHZ2bZeg5G84EVnf022grraFHBwcMGrUKPTr18+SZXVo8eLFcHFxwdatW3H37l1VtIUABQQBEVFbjO0hoHttIW9vb5w/fx4//elPrVFem3x8fPDyyy+jtrYWH374IQ4fPoyEhASbzd9dDAIiUixje0jpbaHm3nzzTWi1Wqxbtw7R0dFwcnKSu6ROMQiISLGM7SClXi3UloEDB2LOnDl4/PixKtpCgIJvKJMkSe4ShCFJEsrKyuQug7qhvLxc7hKspr6+HoMHD0ZERAS+973vob6+Ho6OjnKXZZaoqCicPn0azz33nNylmEX2IPDw8AAA3Lp1q8Vy4yvr6urqbF6TSBwcHGAwGBAcHCx3KdQDWq1W7hJ6rLKyErm5uTh27BhOnz6Na9eume4O9vHxgYODA4YOHYrw8HBERkYiMTERPj4+MlfdtsOHD2PRokVyl2E2jSTzr953795FYGAgamtr8c477yA2NhYFBQU4d+4cdu7cifr6emRkZCA5ORne3t42r2/RokU4fvw4rl69avO5beHu3bs4evSo3GVQD7i5uWHatGlyl9Ft58+fx4YNG5Cbm2s6CpgwYQJCQkLQv39/aLVaNDQ0oLy8HMXFxSgsLMT169fh6OiIhIQErFixAqNHj5b7Y5jU1tYiODgYly9fRp8+feQuxzySAmRlZUkuLi4SAMne3l5atmyZZDAYJGdnZ2nixInSBx98IN25c0eW2hYuXCgFBQXJMjdRb1ZeXi6lpKRIGo1G8vLykpYvXy5dunTJrK8tLi6WVqxYIXl7e0sajUaaN2+edPv2bStX3L6ysjKpvLxckiRJevvtt6U33nhDtlq6QxFBIEmS9ODBA+nChQtSdXW1admtW7dkrOgJBgGR5eXn50v+/v6STqeT0tLSpAcPHnRrOw8ePJDS0tIknU4n+fv7S/n5+RautHMlJSWSRqORAEj+/v5S//79paqqKpvX0ROKuWrIzc0Nzz77LNzd3U3LbHkjCBHZxvbt2zFlyhT4+fnh/PnzWLNmDdzc3Lq1LTc3N6xZswbnz5+Hn58fYmNjsX37dgtX3DEvLy8MHz4cwJNnDuXl5amnJfR/ZD9ZTETiyMrKwoIFCxAZGYnc3NxuB8DTQkNDUVhYiFmzZmH+/PlobGy02aWbPj4+uHz5Mm7evIkBAwao5n6H5hRzREBEvduJEyewYMECxMbG4sCBAxYLASMXFxfk5uZi6tSpSE1NtfmD3gICAlQZAgCDgIhsoLKyEsnJyQgJCUF2drbVLnfVarXIzs7G8OHDkZycjMrKSqvM09swCIjI6pYvX47Kykrs3r0brq6uVp3L1dUVu3fvxp07d7By5UqrztVbMAiIyKouXryIrVu34s0330RYWJhN5vz+97+PZcuWYcuWLSguLrbJnGrGICAiq9q4cSPc3d3x1ltv2XTeX/7yl3Bzc2vx9kNqG4OAiKymuroa2dnZmD9/Pjw9PW06d9++fbFgwQLk5ORY9GX1lhISEoLFixeb3q0sJwYBEVlNXl4e6urqLP6yeHPNnTsXDx8+xD//+U9Z5u/I9evXkZGRgeeffx5Dhw41hYIkw1N/GAREZDX5+fnw8/OT7VlA4eHh8PX1RX5+vizzm6t5KAQFBdk8FBgERGQ1586dw7hx42S7vl6j0WD8+PE4e/asLPN3hxyhwCAgIqspLS01vW5SLiEhISgtLZW1hu6yVSj0+BETt27dwpdffgngyYskamtrzf7auro6PHr0yOzxNTU1aGhoMHv8/fv30dTUZNZYSZJw7969Vss/++yzNpcTUccMBgNqamrg6+srax2+vr6oqanBp59+CgcH5TxVx9x9k5ExFDIyMjBkyBDEx8dDr9cjIiKix0dcPf5XWblyJbZt29bTzVidm5tbl+5m7NOnDzQaDb799tsuf8OICKZf8nQ6nax1uLi4AICq39nwNGMobN68GSkpKXjvvfd69KC7HgfB+++/j5///Oetltvb25vePmYOR0fHLt1x6OzsbJMfMOOLaYioa4w7YLnfMmjsUhQWFirqTW7jx4/vUoejuREjRkCv1yMlJQVBQUE9rqXHQeDh4YHw8PAeF0JEvYtWq4Wnp6fs71W+desWPD09MW7cOFnreFpX2zmW3vk3p5yGGRH1OsOHD5f9EQ+XL182vS9Abay582+OQUBEVjN27Fjs2rULjY2NsLe3t/n8jY2NKCoqQnJyss3n7i5b7fybYxAQkdVERUXhT3/6E4qKihAREWHz+QsKClBVVYWoqCibz90Vcuz8m2MQEJHVTJs2DR4eHsjMzJQlCHbs2AFPT09MnTrV5nN3ZsKECUhISEBSUhIGDhwoay0MAiKyGmdnZ8ydOxfbtm1Denq6Td9D/t1332Hnzp1YuHAhnJ2dbTavuY4dOyZ3CSa8s5iIrOqtt97C48ePsXbtWpvOm5aWhsbGRps//lqNGAREZFVDhgzB0qVL8de//hUFBQU2mfPUqVPYsmULli5disGDB9tkTjXTSHI881RFjDeUXb16Ve5SiFSrtrYW4eHhqKurw5kzZ6z62ImKigqEh4fDxcUFZ8+etfqrMXsDHhEQkdW5urpiz549qKysRFxcHGpqaqwyT01NDeLi4lBVVYXs7GyGgJkYBERkE88++yz27t2LCxcuIDIyEhUVFRbd/u3btxEZGYkLFy4gJycHI0eOtOj2ezMGARHZTGxsLPbv34/i4mKMGTMGJ06csMh2P/vsM4SHh6O4uBj79+9HbGysRbYrCgYBEdnUlClTUFRUBA8PD0yePBkLFizA119/3a1tff3111i4cCEmTZoEDw8PFBUVYcqUKRauuPdjEBCRzYWFheHMmTNYtWoVdu/ejWHDhmHu3Lk4ePAgDAZDh19rMBhw8OBBzJ07F8OGDcPf//53rF69GmfOnEFYWJiNPkHvwquGOtHbrxq6ceMG9uzZg8bGRrlLoW7y8vLCokWLYGenzt/rvvvuO2zatAmZmZmoqKiAs7MzwsPDERoaCj8/P3h4eKC6uhoVFRW4fPkyzpw5g7q6Ovj4+GDevHlYtmwZBgwYIPfHUDUGQSd6exCsWbMGv/nNb+Qug3qopKREtU/YNGpoaMDx48dx5MgRnD17FiUlJbhz5w4ePXoEnU4Hb29vhISEIDw8HNHR0Zg8ebKi3i+gZnzEhOCampqg0+lkf3kIdc/evXuRlJTUK47otFotYmJiEBMTY1omSRKee+45/Pvf/1bUayZ7G3UeSxKREAoLC3Hu3Dl8/vnncpfSqzEIiEixsrOzW/xJ1sEgICJFkiQJ+/btAwDk5OTg8ePHMlfUezEIiEiRCgsLTfcXVFRUsD1kRQwCIlKkp9tBbA9ZD4OAiBSneVvIiO0h62EQEJHiNG8LGbE9ZD0MAiJSnPbaQGwPWQeDgIgUpa22kBHbQ9bBICAiRSkoKGj3aaRsD1kHg4CIFKWz9g/bQ5bHICAixZAkCbm5uR2OYXvI8hgERKQYHbWFjNgesjwGAREphrltn87G3bt3D4mJiWwjmYlBQESKYE5byKiz9pDBYMAnn3yCK1euWKq8Xo1BQESKYE5byIjtIctiEBCRInS1jcO2j+XwlT9EpAh2dnbQ6/UtllVWViI/Px8/+tGP4Ofn12Kdvb29Lcvr1RgERKQImzZtarWsoKAA+fn5+PWvf43IyMg2v+7Ro0dITExsscxgMAAAMjMzcfLkyRbrUlNTMX36dAtV3TswCIhI1ZqamnD9+vUWy4wnkquqqlqtq66utlFl6sEgICJVc3FxQXFxcYtl5eXl8Pf3x5IlS/CrX/1KpsrUgyeLiYgExyAgIhIcg4CISHAMAiLqdRwcHDBq1Cj069dP7lJUgSeLiajX8fb2xvnz5+UuQzV4REBEJDgGARGR4BgEJLyGhga5SyCSFc8RkGocPnwYWVlZKC8vNy1zcHBAWFgY0tPTodVqAQDp6ek4e/as6TEDANC3b19Mnz4ds2bNAvDkbtT3338fmZmZuHjxInx9fRETE4ONGzfC39/fth+MSGYMAlKNmJgYREZGIj4+HgcOHAAAnDp1ChMmTGgxbvXq1SgrK0NoaCgaGhowatQo5ObmQqfTAXjy+IG4uDicO3cOYWFhCAoKQmlpKXbs2IFPP/0UFy5cwIABA2z++YjkwtaQCn355Zf4xS9+gePHj6OxsVHucmzK3t4eERERpr+PHz++zXFBQUEYOHAgAGDs2LGmEACA3//+9/Dz88NXX32FY8eO4cqVKzh27Bh8fX1RUVGBpUuXWv+DECkIg0CFampqsHnzZkyePBn9+vVDSkoK9u/fj/r6erlLswknJycAgFarhUaj6XSc8U+jo0ePYsuWLXB2djYtmzRpkunpl0ePHrV0yUSKxiBQoeY7v8rKSuzYsQPx8fHw9/c3hULz/jj9vxs3biA1NRWOjo6t1r3wwgsAnjyxkieQSSQ8R6BCdnZt53dVVRV27NiBHTt2oE+fPoiJiUFcXBxmzpwJV1dXG1epTIMGDcKgQYPaXKfT6aDRaDB06FDTiWciEfCIQIU6aocY3bt3D9nZ2Zg3bx58fX3x4osvYvv27Xjw4IENKlSnixcvQpIkJCcny10KkU3xiEAhHj9+bPZOuqampkvbrqurQ15eHvLy8pCamoro6Gjo9XokJCR0p1TFaGhowIoVK9pdf/v27S5tLysrC76+vliyZElPS7MZSZIAPAmxhw8fylyN5ZWUlMhdghAYBJ1wcHDA/fv3ERwcjIcPH3ap937//n00NTVZsbque/TokSkUdDodxo0bJ3dJPeLg0P6PsDlHTkbffvsttm3bhq1bt8LLy8sSpdnExYsXAaDVu357m2+++UbuEno1BkEnfvKTn7S5XKfTtbjqpDPu7u4d7rSas7Ozg6enZ7vrv/nmG6Snp5s999NGjBgBvV6POXPmYPv27SgqKur2tuSk1Wo7/HfIyclBZWWlWdt644038Pbbb2PGjBmWKs8mRowYAQD429/+hsDAQJmrsY5r165h7ty5cpfRqzEIOhEZGdnuS7Pl8p///KfLQWDc+c+ePRuhoaFWqkydNmzYgICAgA7bTEplvHBg/PjxeOaZZ2SuhtSKQaBC5rY8hgwZgvj4eMybNw9jxoyxclXq9PHHH6OsrAx/+ctf5C6FSDYMAhVq7/JRAAgMDMT06dOh1+sxceJEG1alPv/6179w4MABbN26tVW4VlVVQZIkVZ0vIOouBoEKPb3TGjhwIGbMmAG9Xo+IiIgunSRVI+Md1J09XqOjcZ9//jl27tyJzMzMVsFaX1+PV155BZmZmRaqmEjZGAQqZGdnBx8fH8yYMQMvvfSSEDv/5srKygA8uXz05s2bCAgIaDWmrq7O9JRS43ijc+fOIS4uDgEBARg7dmyLdY2NjSgtLcXLL78MFxcXK30CImVhEKhQcHAwysvLO2wR9UZHjhzBzp07sWvXLtOyqKgozJgxA2vXrjXdDbx+/Xr84x//QG1tLQDg0KFDSExMRHJyMn74wx9i6tSpqK6uRnV1dbtzpaamWvfDECmIRjLekUJCWr16Nf7whz+grq5O7lKoG/bu3YukpCRcunSJVw1Rt4n1KyUREbXCICAiEhyDgIhIcAwCIiLBMQiIiATHICAiEhyDgIhIcAwCIiLBMQiIiATHICAiEhyDgIhIcAwCIiLBMQiIiATHICAiEhyDgIhIcAwCIiLBMQiIiATHICAiEhyDgIhIcAwCIiLBMQiIiATHICAiEhyDgIhIcAwCIiLBMQiIiATHICAiEhyDgIhIcAwCIiLBMQiIiATHICAiEpyD3AWQvDQaDQwGA7y8vOQuhbqhvr4ewJPvI1F3MQgEN3v2bNPOhNTJzc0NwcHBcpdBKqaRJEmSuwgiIpIPzxEQEQmOQUBEJDgGARGR4BgERESCYxAQEQmOQUBEJLj/AeLwUZ6DmyFwAAAAAElFTkSuQmCC)"
      ],
      "metadata": {
        "id": "Njdrd1HIJG6w"
      }
    },
    {
      "cell_type": "code",
      "source": [
        "CL = co.feedback(H1, H2)\n",
        "print(CL)\n",
        "print(co.pole(CL))\n",
        "co.pzmap(CL)"
      ],
      "metadata": {
        "id": "WIjx7xtHI79t",
        "colab": {
          "base_uri": "https://localhost:8080/",
          "height": 417
        },
        "outputId": "0f5c3f2f-ca25-46e6-fd5e-f6a622e3ae94"
      },
      "execution_count": 10,
      "outputs": [
        {
          "output_type": "stream",
          "name": "stdout",
          "text": [
            "\n",
            "        s\n",
            "------------------\n",
            "36 s^2 + 88 s + 60\n",
            "\n",
            "[-1.22222222+0.41573971j -1.22222222-0.41573971j]\n"
          ]
        },
        {
          "output_type": "execute_result",
          "data": {
            "text/plain": [
              "(array([-1.22222222+0.41573971j, -1.22222222-0.41573971j]), array([0.]))"
            ]
          },
          "metadata": {},
          "execution_count": 10
        },
        {
          "output_type": "display_data",
          "data": {
            "image/png": "[encoded data removed]",
            "text/plain": [
              "<Figure size 432x288 with 1 Axes>"
            ]
          },
          "metadata": {
            "needs_background": "light"
          }
        }
      ]
    },
    {
      "cell_type": "markdown",
      "source": [
        "Lastly, the feedback combination yields a new transfer function of a closed-loop system such as\n",
        "$$C_L = \\frac{H_1(s)}{1+H_1(s)H_2(s)}.$$\n",
        " \n",
        "![Screenshot from 2022-02-07 05-16-08.png](data:image/png;base64,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)"
      ],
      "metadata": {
        "id": "evZoj4j4J5lT"
      }
    },
    {
      "cell_type": "markdown",
      "source": [
        "Now, you can analyze if the systems are stable or unstable by looking for the poles.\n",
        "\n",
        "\n",
        "\n",
        "1.   The series combination is unstable, since pole is 0.33333333 which means it is on the right or Right-Half Hemisphere\n",
        "2.   The parallel combination is unstable, since pole is 0.33333333 which means it is on the right or Right-Half Hemisphere\n",
        "3.   The feedback combination is stable, since the pole value is on the left or called the Left-Half Hemisphere\n",
        "\n",
        "Next, please plot the step responses.\n",
        "\n"
      ],
      "metadata": {
        "id": "1aKVRLXEWRB0"
      }
    },
    {
      "cell_type": "code",
      "source": [
        "# Write your code here to plot the step response for series combination.\n",
        "\n"
      ],
      "metadata": {
        "id": "4kVv6qDbW4cu"
      },
      "execution_count": null,
      "outputs": []
    },
    {
      "cell_type": "code",
      "source": [
        "t1, y1 = co.step_response(OL, t)\n",
        "\n",
        "plt.plot(t1, y1)\n",
        "plt.xlabel(\"Time (seconds)\")\n",
        "plt.ylabel(\"Amplitude\")\n",
        "plt.grid()"
      ],
      "metadata": {
        "colab": {
          "base_uri": "https://localhost:8080/",
          "height": 279
        },
        "outputId": "79866b5b-2ff5-49e9-f3e6-a71035000b5e",
        "id": "DnhnVWlS5-ww"
      },
      "execution_count": 12,
      "outputs": [
        {
          "output_type": "display_data",
          "data": {
            "image/png": "[encoded data removed]",
            "text/plain": [
              "<Figure size 432x288 with 1 Axes>"
            ]
          },
          "metadata": {
            "needs_background": "light"
          }
        }
      ]
    },
    {
      "cell_type": "code",
      "source": [
        "# Write your code here to plot the step response for parallel combination.\n",
        "t1, y1 = co.step_response(PL, t)\n",
        "\n",
        "plt.plot(t1, y1)\n",
        "plt.xlabel(\"Time (seconds)\")\n",
        "plt.ylabel(\"Amplitude\")\n",
        "plt.grid()"
      ],
      "metadata": {
        "id": "01ZCajt6XPnZ",
        "colab": {
          "base_uri": "https://localhost:8080/",
          "height": 380
        },
        "outputId": "6d8d6cf2-db6f-4c9a-99fa-9060c8d1d1f6"
      },
      "execution_count": 13,
      "outputs": [
        {
          "output_type": "error",
          "ename": "ValueError",
          "evalue": "ignored",
          "traceback": [
            "\u001b[0;31m---------------------------------------------------------------------------\u001b[0m",
            "\u001b[0;31mValueError\u001b[0m                                Traceback (most recent call last)",
            "\u001b[0;32m<ipython-input-13-c6921a9400d7>\u001b[0m in \u001b[0;36m<module>\u001b[0;34m()\u001b[0m\n\u001b[1;32m      1\u001b[0m \u001b[0;31m# Write your code here to plot the step response for parallel combination.\u001b[0m\u001b[0;34m\u001b[0m\u001b[0;34m\u001b[0m\u001b[0;34m\u001b[0m\u001b[0m\n\u001b[0;32m----> 2\u001b[0;31m \u001b[0mt1\u001b[0m\u001b[0;34m,\u001b[0m \u001b[0my1\u001b[0m \u001b[0;34m=\u001b[0m \u001b[0mco\u001b[0m\u001b[0;34m.\u001b[0m\u001b[0mstep_response\u001b[0m\u001b[0;34m(\u001b[0m\u001b[0mPL\u001b[0m\u001b[0;34m,\u001b[0m \u001b[0mt\u001b[0m\u001b[0;34m)\u001b[0m\u001b[0;34m\u001b[0m\u001b[0;34m\u001b[0m\u001b[0m\n\u001b[0m\u001b[1;32m      3\u001b[0m \u001b[0;34m\u001b[0m\u001b[0m\n\u001b[1;32m      4\u001b[0m \u001b[0mplt\u001b[0m\u001b[0;34m.\u001b[0m\u001b[0mplot\u001b[0m\u001b[0;34m(\u001b[0m\u001b[0mt1\u001b[0m\u001b[0;34m,\u001b[0m \u001b[0my1\u001b[0m\u001b[0;34m)\u001b[0m\u001b[0;34m\u001b[0m\u001b[0;34m\u001b[0m\u001b[0m\n\u001b[1;32m      5\u001b[0m \u001b[0mplt\u001b[0m\u001b[0;34m.\u001b[0m\u001b[0mxlabel\u001b[0m\u001b[0;34m(\u001b[0m\u001b[0;34m\"Time (seconds)\"\u001b[0m\u001b[0;34m)\u001b[0m\u001b[0;34m\u001b[0m\u001b[0;34m\u001b[0m\u001b[0m\n",
            "\u001b[0;32m/usr/local/lib/python3.7/dist-packages/control/timeresp.py\u001b[0m in \u001b[0;36mstep_response\u001b[0;34m(sys, T, X0, input, output, T_num, transpose, return_x, squeeze)\u001b[0m\n\u001b[1;32m   1332\u001b[0m \u001b[0;34m\u001b[0m\u001b[0m\n\u001b[1;32m   1333\u001b[0m     \u001b[0;31m# Convert to state space so that we can simulate\u001b[0m\u001b[0;34m\u001b[0m\u001b[0;34m\u001b[0m\u001b[0;34m\u001b[0m\u001b[0m\n\u001b[0;32m-> 1334\u001b[0;31m     \u001b[0msys\u001b[0m \u001b[0;34m=\u001b[0m \u001b[0m_convert_to_statespace\u001b[0m\u001b[0;34m(\u001b[0m\u001b[0msys\u001b[0m\u001b[0;34m)\u001b[0m\u001b[0;34m\u001b[0m\u001b[0;34m\u001b[0m\u001b[0m\n\u001b[0m\u001b[1;32m   1335\u001b[0m \u001b[0;34m\u001b[0m\u001b[0m\n\u001b[1;32m   1336\u001b[0m     \u001b[0;31m# Set up arrays to handle the output\u001b[0m\u001b[0;34m\u001b[0m\u001b[0;34m\u001b[0m\u001b[0;34m\u001b[0m\u001b[0m\n",
            "\u001b[0;32m/usr/local/lib/python3.7/dist-packages/control/statesp.py\u001b[0m in \u001b[0;36m_convert_to_statespace\u001b[0;34m(sys, **kw)\u001b[0m\n\u001b[1;32m   1469\u001b[0m         if any([[len(num) for num in col] for col in sys.num] >\n\u001b[1;32m   1470\u001b[0m                [[len(num) for num in col] for col in sys.den]):\n\u001b[0;32m-> 1471\u001b[0;31m             raise ValueError(\"Transfer function is non-proper; can't \"\n\u001b[0m\u001b[1;32m   1472\u001b[0m                              \"convert to StateSpace system.\")\n\u001b[1;32m   1473\u001b[0m         \u001b[0;32mtry\u001b[0m\u001b[0;34m:\u001b[0m\u001b[0;34m\u001b[0m\u001b[0;34m\u001b[0m\u001b[0m\n",
            "\u001b[0;31mValueError\u001b[0m: Transfer function is non-proper; can't convert to StateSpace system."
          ]
        }
      ]
    },
    {
      "cell_type": "code",
      "source": [
        "# Write your code here to plot the step response for feedback combination.\n",
        "t1, y1 = co.step_response(CL, t)\n",
        "\n",
        "plt.plot(t1, y1)\n",
        "plt.xlabel(\"Time (seconds)\")\n",
        "plt.ylabel(\"Amplitude\")\n",
        "plt.grid()"
      ],
      "metadata": {
        "id": "zVSd5WbmLMSA",
        "colab": {
          "base_uri": "https://localhost:8080/",
          "height": 279
        },
        "outputId": "4d0d5393-da46-447c-d1dc-5d9f30069263"
      },
      "execution_count": 14,
      "outputs": [
        {
          "output_type": "display_data",
          "data": {
            "image/png": "[encoded data removed]",
            "text/plain": [
              "<Figure size 432x288 with 1 Axes>"
            ]
          },
          "metadata": {
            "needs_background": "light"
          }
        }
      ]
    }
  ]
}